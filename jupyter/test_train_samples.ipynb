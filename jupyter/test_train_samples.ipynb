{
 "cells": [
  {
   "cell_type": "code",
   "id": "initial_id",
   "metadata": {
    "collapsed": true,
    "ExecuteTime": {
     "end_time": "2024-10-10T04:40:45.795222Z",
     "start_time": "2024-10-10T04:40:41.823801Z"
    }
   },
   "source": [
    "import pandas as pd\n",
    "from pyarrow.compute import index"
   ],
   "outputs": [],
   "execution_count": 3
  },
  {
   "metadata": {
    "ExecuteTime": {
     "end_time": "2024-10-10T04:42:30.179856Z",
     "start_time": "2024-10-10T04:40:48.968137Z"
    }
   },
   "cell_type": "code",
   "source": [
    "file_path = r\"C:\\Users\\gabriel\\Downloads\\tweets_perfiles_2024_10_09_v3.json\"\n",
    "df = pd.read_json(file_path, lines=True)\n",
    "df.head()"
   ],
   "id": "e632444ad7f2700e",
   "outputs": [
    {
     "name": "stderr",
     "output_type": "stream",
     "text": [
      "\n",
      "KeyboardInterrupt\n",
      "\n"
     ]
    }
   ],
   "execution_count": 4
  },
  {
   "metadata": {
    "ExecuteTime": {
     "end_time": "2024-10-10T04:46:20.935653Z",
     "start_time": "2024-10-10T04:46:11.558798Z"
    }
   },
   "cell_type": "code",
   "source": "!pip install openpyxl",
   "id": "2baae02fbc307f3e",
   "outputs": [
    {
     "name": "stderr",
     "output_type": "stream",
     "text": [
      "ERROR: Invalid requirement: 'openpyxl.'\n",
      "\n",
      "[notice] A new release of pip is available: 23.2.1 -> 24.2\n",
      "[notice] To update, run: python.exe -m pip install --upgrade pip\n"
     ]
    }
   ],
   "execution_count": 9
  },
  {
   "metadata": {
    "ExecuteTime": {
     "end_time": "2024-10-10T04:57:24.976890Z",
     "start_time": "2024-10-10T04:57:22.492222Z"
    }
   },
   "cell_type": "code",
   "source": [
    "df = pd.read_excel(r'H:\\Mi unidad\\Dataset\\perfiles_uniandes\\tweets_perfiles_2024_10_09_labels.xlsx', sheet_name='Bases')\n",
    "df"
   ],
   "id": "506f4a8bc5195e3a",
   "outputs": [
    {
     "data": {
      "text/plain": [
       "                             nombre                  id           usuario  \\\n",
       "0     NicolÃ¡s EstupiÃ±Ã¡n ðŸ‡¨ðŸ‡´           727453812   @nico_estupinan   \n",
       "1          AndrÃ©s Valencia PinzÃ³n          2231696656   @AndrsValencia9   \n",
       "2                    LAURA DE LEÃ“N           187579797  @lauramarceladlc   \n",
       "3      Julio HernÃ¡n Correal Triana           202273341    @JulioHCorreal   \n",
       "4                      Fabio Poveda           903326095  @FabioPovedaRuiz   \n",
       "...                             ...                 ...               ...   \n",
       "1026              JesusAbadColorado  990000000000000000     @AbadColorado   \n",
       "1027                 Santiago Moure           444855305    @MoureSantiago   \n",
       "1028             Juan Daniel Oviedo           219434063        @jdoviedoa   \n",
       "1029           Lina MarÃ­a PolanÃ­a           166788286      @LinaPolania   \n",
       "1030             Juan Manuel Santos            64839766    @JuanManSantos   \n",
       "\n",
       "     sexo                      profesion edad  status  \\\n",
       "0       H                ingeniero civil   44     0.0   \n",
       "1       H                     economista   54     0.0   \n",
       "2       M                          actor   31     0.0   \n",
       "3       H                       profesor   63     0.0   \n",
       "4       H  Comunicador Social/Periodista   42     0.0   \n",
       "...   ...                            ...  ...     ...   \n",
       "1026    H  Comunicador Social/Periodista   55     0.0   \n",
       "1027    H                          Actor   53     0.0   \n",
       "1028    H                     Economista   45     0.0   \n",
       "1029    M  Comunicador Social/Periodista   36     0.0   \n",
       "1030    H                     Economista   70     0.0   \n",
       "\n",
       "                                                  texto  filtro rango_edad  \\\n",
       "0     RT @felipe_ramir: Hoy inician las pruebas pilo...       0      40-50   \n",
       "1     \"Si ha estado votando por polÃ­ticos que prome...       0        >50   \n",
       "2                                                  ðŸ—£       0      30-40   \n",
       "3     Mi nueva columna en Las 2 Orillas \\nhttps://t....       0        >50   \n",
       "4     RT @nelsonpatron_: De manera articulada trabaj...       0      40-50   \n",
       "...                                                 ...     ...        ...   \n",
       "1026  RT @HenryHoracio: QuÃ© ironÃ­a. Hace unas hora...       0        >50   \n",
       "1027  RT @Luisa_Platt: .@MdeFrancisco12 y @MoureSant...       0        >50   \n",
       "1028  RT @WHO: The new estimates are the result of c...       0      40-50   \n",
       "1029           ðŸ™ŠðŸ™ŠðŸ™ŠðŸ™Š https://t.co/hGGtKtQURJ       0      30-40   \n",
       "1030  La mejor forma de defender la libertad de pren...       0        >50   \n",
       "\n",
       "                                 clase_grupo_profesion  \n",
       "0                                           Ingenieria  \n",
       "1                  Economista/Matematico/Adm. Empresas  \n",
       "2                         Actor/Actriz/Cantante/Musico  \n",
       "3                                             Profesor  \n",
       "4     Comunicador Social/Periodista/Presentador/Modelo  \n",
       "...                                                ...  \n",
       "1026  Comunicador Social/Periodista/Presentador/Modelo  \n",
       "1027                      Actor/Actriz/Cantante/Musico  \n",
       "1028               Economista/Matematico/Adm. Empresas  \n",
       "1029  Comunicador Social/Periodista/Presentador/Modelo  \n",
       "1030               Economista/Matematico/Adm. Empresas  \n",
       "\n",
       "[1031 rows x 11 columns]"
      ],
      "text/html": [
       "<div>\n",
       "<style scoped>\n",
       "    .dataframe tbody tr th:only-of-type {\n",
       "        vertical-align: middle;\n",
       "    }\n",
       "\n",
       "    .dataframe tbody tr th {\n",
       "        vertical-align: top;\n",
       "    }\n",
       "\n",
       "    .dataframe thead th {\n",
       "        text-align: right;\n",
       "    }\n",
       "</style>\n",
       "<table border=\"1\" class=\"dataframe\">\n",
       "  <thead>\n",
       "    <tr style=\"text-align: right;\">\n",
       "      <th></th>\n",
       "      <th>nombre</th>\n",
       "      <th>id</th>\n",
       "      <th>usuario</th>\n",
       "      <th>sexo</th>\n",
       "      <th>profesion</th>\n",
       "      <th>edad</th>\n",
       "      <th>status</th>\n",
       "      <th>texto</th>\n",
       "      <th>filtro</th>\n",
       "      <th>rango_edad</th>\n",
       "      <th>clase_grupo_profesion</th>\n",
       "    </tr>\n",
       "  </thead>\n",
       "  <tbody>\n",
       "    <tr>\n",
       "      <th>0</th>\n",
       "      <td>NicolÃ¡s EstupiÃ±Ã¡n ðŸ‡¨ðŸ‡´</td>\n",
       "      <td>727453812</td>\n",
       "      <td>@nico_estupinan</td>\n",
       "      <td>H</td>\n",
       "      <td>ingeniero civil</td>\n",
       "      <td>44</td>\n",
       "      <td>0.0</td>\n",
       "      <td>RT @felipe_ramir: Hoy inician las pruebas pilo...</td>\n",
       "      <td>0</td>\n",
       "      <td>40-50</td>\n",
       "      <td>Ingenieria</td>\n",
       "    </tr>\n",
       "    <tr>\n",
       "      <th>1</th>\n",
       "      <td>AndrÃ©s Valencia PinzÃ³n</td>\n",
       "      <td>2231696656</td>\n",
       "      <td>@AndrsValencia9</td>\n",
       "      <td>H</td>\n",
       "      <td>economista</td>\n",
       "      <td>54</td>\n",
       "      <td>0.0</td>\n",
       "      <td>\"Si ha estado votando por polÃ­ticos que prome...</td>\n",
       "      <td>0</td>\n",
       "      <td>&gt;50</td>\n",
       "      <td>Economista/Matematico/Adm. Empresas</td>\n",
       "    </tr>\n",
       "    <tr>\n",
       "      <th>2</th>\n",
       "      <td>LAURA DE LEÃ“N</td>\n",
       "      <td>187579797</td>\n",
       "      <td>@lauramarceladlc</td>\n",
       "      <td>M</td>\n",
       "      <td>actor</td>\n",
       "      <td>31</td>\n",
       "      <td>0.0</td>\n",
       "      <td>ðŸ—£</td>\n",
       "      <td>0</td>\n",
       "      <td>30-40</td>\n",
       "      <td>Actor/Actriz/Cantante/Musico</td>\n",
       "    </tr>\n",
       "    <tr>\n",
       "      <th>3</th>\n",
       "      <td>Julio HernÃ¡n Correal Triana</td>\n",
       "      <td>202273341</td>\n",
       "      <td>@JulioHCorreal</td>\n",
       "      <td>H</td>\n",
       "      <td>profesor</td>\n",
       "      <td>63</td>\n",
       "      <td>0.0</td>\n",
       "      <td>Mi nueva columna en Las 2 Orillas \\nhttps://t....</td>\n",
       "      <td>0</td>\n",
       "      <td>&gt;50</td>\n",
       "      <td>Profesor</td>\n",
       "    </tr>\n",
       "    <tr>\n",
       "      <th>4</th>\n",
       "      <td>Fabio Poveda</td>\n",
       "      <td>903326095</td>\n",
       "      <td>@FabioPovedaRuiz</td>\n",
       "      <td>H</td>\n",
       "      <td>Comunicador Social/Periodista</td>\n",
       "      <td>42</td>\n",
       "      <td>0.0</td>\n",
       "      <td>RT @nelsonpatron_: De manera articulada trabaj...</td>\n",
       "      <td>0</td>\n",
       "      <td>40-50</td>\n",
       "      <td>Comunicador Social/Periodista/Presentador/Modelo</td>\n",
       "    </tr>\n",
       "    <tr>\n",
       "      <th>...</th>\n",
       "      <td>...</td>\n",
       "      <td>...</td>\n",
       "      <td>...</td>\n",
       "      <td>...</td>\n",
       "      <td>...</td>\n",
       "      <td>...</td>\n",
       "      <td>...</td>\n",
       "      <td>...</td>\n",
       "      <td>...</td>\n",
       "      <td>...</td>\n",
       "      <td>...</td>\n",
       "    </tr>\n",
       "    <tr>\n",
       "      <th>1026</th>\n",
       "      <td>JesusAbadColorado</td>\n",
       "      <td>990000000000000000</td>\n",
       "      <td>@AbadColorado</td>\n",
       "      <td>H</td>\n",
       "      <td>Comunicador Social/Periodista</td>\n",
       "      <td>55</td>\n",
       "      <td>0.0</td>\n",
       "      <td>RT @HenryHoracio: QuÃ© ironÃ­a. Hace unas hora...</td>\n",
       "      <td>0</td>\n",
       "      <td>&gt;50</td>\n",
       "      <td>Comunicador Social/Periodista/Presentador/Modelo</td>\n",
       "    </tr>\n",
       "    <tr>\n",
       "      <th>1027</th>\n",
       "      <td>Santiago Moure</td>\n",
       "      <td>444855305</td>\n",
       "      <td>@MoureSantiago</td>\n",
       "      <td>H</td>\n",
       "      <td>Actor</td>\n",
       "      <td>53</td>\n",
       "      <td>0.0</td>\n",
       "      <td>RT @Luisa_Platt: .@MdeFrancisco12 y @MoureSant...</td>\n",
       "      <td>0</td>\n",
       "      <td>&gt;50</td>\n",
       "      <td>Actor/Actriz/Cantante/Musico</td>\n",
       "    </tr>\n",
       "    <tr>\n",
       "      <th>1028</th>\n",
       "      <td>Juan Daniel Oviedo</td>\n",
       "      <td>219434063</td>\n",
       "      <td>@jdoviedoa</td>\n",
       "      <td>H</td>\n",
       "      <td>Economista</td>\n",
       "      <td>45</td>\n",
       "      <td>0.0</td>\n",
       "      <td>RT @WHO: The new estimates are the result of c...</td>\n",
       "      <td>0</td>\n",
       "      <td>40-50</td>\n",
       "      <td>Economista/Matematico/Adm. Empresas</td>\n",
       "    </tr>\n",
       "    <tr>\n",
       "      <th>1029</th>\n",
       "      <td>Lina MarÃ­a PolanÃ­a</td>\n",
       "      <td>166788286</td>\n",
       "      <td>@LinaPolania</td>\n",
       "      <td>M</td>\n",
       "      <td>Comunicador Social/Periodista</td>\n",
       "      <td>36</td>\n",
       "      <td>0.0</td>\n",
       "      <td>ðŸ™ŠðŸ™ŠðŸ™ŠðŸ™Š https://t.co/hGGtKtQURJ</td>\n",
       "      <td>0</td>\n",
       "      <td>30-40</td>\n",
       "      <td>Comunicador Social/Periodista/Presentador/Modelo</td>\n",
       "    </tr>\n",
       "    <tr>\n",
       "      <th>1030</th>\n",
       "      <td>Juan Manuel Santos</td>\n",
       "      <td>64839766</td>\n",
       "      <td>@JuanManSantos</td>\n",
       "      <td>H</td>\n",
       "      <td>Economista</td>\n",
       "      <td>70</td>\n",
       "      <td>0.0</td>\n",
       "      <td>La mejor forma de defender la libertad de pren...</td>\n",
       "      <td>0</td>\n",
       "      <td>&gt;50</td>\n",
       "      <td>Economista/Matematico/Adm. Empresas</td>\n",
       "    </tr>\n",
       "  </tbody>\n",
       "</table>\n",
       "<p>1031 rows × 11 columns</p>\n",
       "</div>"
      ]
     },
     "execution_count": 20,
     "metadata": {},
     "output_type": "execute_result"
    }
   ],
   "execution_count": 20
  },
  {
   "metadata": {
    "ExecuteTime": {
     "end_time": "2024-10-10T04:57:35.825933Z",
     "start_time": "2024-10-10T04:57:35.796300Z"
    }
   },
   "cell_type": "code",
   "source": [
    "from sklearn.model_selection import train_test_split\n",
    "# Dividir los datos en dos subconjuntos (60% y 40%) manteniendo la proporción de categorías en 'columna_codificada'\n",
    "df_60_sexo, df_40_sexo = train_test_split(df, test_size=0.4, stratify=df['sexo'], random_state=42)\n",
    "df_60_profesion, df_40_profesion = train_test_split(df, test_size=0.4, stratify=df['clase_grupo_profesion'], random_state=42)"
   ],
   "id": "f0c3e0d2a5260a99",
   "outputs": [],
   "execution_count": 21
  },
  {
   "metadata": {
    "ExecuteTime": {
     "end_time": "2024-10-10T05:01:54.264219Z",
     "start_time": "2024-10-10T05:01:51.314735Z"
    }
   },
   "cell_type": "code",
   "source": [
    "df_60_sexo.to_excel('file_sexo_sample_60.xlsx', index=False)\n",
    "df_40_sexo.to_excel('file_sexo_sample_40.xlsx', index=False)"
   ],
   "id": "eeef66a257511b60",
   "outputs": [],
   "execution_count": 26
  },
  {
   "metadata": {
    "ExecuteTime": {
     "end_time": "2024-10-10T05:01:56.221167Z",
     "start_time": "2024-10-10T05:01:54.280302Z"
    }
   },
   "cell_type": "code",
   "source": [
    "df_60_profesion.to_excel('file_profesion_sample_60.xlsx', index=False)\n",
    "df_40_profesion.to_excel('file_profesion_sample_40.xlsx', index=False)"
   ],
   "id": "97067cb5866ff15b",
   "outputs": [],
   "execution_count": 27
  },
  {
   "metadata": {
    "ExecuteTime": {
     "end_time": "2024-10-10T05:42:05.680148Z",
     "start_time": "2024-10-10T05:41:49.726115Z"
    }
   },
   "cell_type": "code",
   "source": [
    "df_edad = pd.read_csv(r\"I:\\Unidades compartidas\\Javeriana\\Clases\\Material Cursos\\NLP_TA\\Workshop Dataset\\age_tweets_v2\\age_tweets_v2.csv\", delimiter='\\t', quotechar='\"', engine='python', on_bad_lines='skip')\n",
    "df_edad"
   ],
   "id": "38e611877ba68d57",
   "outputs": [
    {
     "data": {
      "text/plain": [
       "                                                     text age_range\n",
       "0       RT @forotw: Respetemos la Semana Santa. @Raulk...     35-49\n",
       "1       RT @bluepoltergeist: No importa que usted sea ...     35-49\n",
       "2       RT @LuxuryColumnist: What do you think of this...     35-49\n",
       "3       Un milagro! Dios rtsp://v2.cache6.c.youtube.co...     35-49\n",
       "4       RT @Bogota: En #LaCiudadDeLosSuenos 200 jovene...     35-49\n",
       "...                                                   ...       ...\n",
       "282226  @caldo_de_cabeza revise temprano y no! No soy ...     35-49\n",
       "282227  @CAmanecioCali uffff ! Si lagente se diera cue...     35-49\n",
       "282228  Presentaran ante tribunales a camarografo dete...     35-49\n",
       "282229  Me ha gustado un video de @YouTube (http://t.c...     35-49\n",
       "282230  RT @ClaudiaLopez: Denuncie con pruebas corrupc...     35-49\n",
       "\n",
       "[282231 rows x 2 columns]"
      ],
      "text/html": [
       "<div>\n",
       "<style scoped>\n",
       "    .dataframe tbody tr th:only-of-type {\n",
       "        vertical-align: middle;\n",
       "    }\n",
       "\n",
       "    .dataframe tbody tr th {\n",
       "        vertical-align: top;\n",
       "    }\n",
       "\n",
       "    .dataframe thead th {\n",
       "        text-align: right;\n",
       "    }\n",
       "</style>\n",
       "<table border=\"1\" class=\"dataframe\">\n",
       "  <thead>\n",
       "    <tr style=\"text-align: right;\">\n",
       "      <th></th>\n",
       "      <th>text</th>\n",
       "      <th>age_range</th>\n",
       "    </tr>\n",
       "  </thead>\n",
       "  <tbody>\n",
       "    <tr>\n",
       "      <th>0</th>\n",
       "      <td>RT @forotw: Respetemos la Semana Santa. @Raulk...</td>\n",
       "      <td>35-49</td>\n",
       "    </tr>\n",
       "    <tr>\n",
       "      <th>1</th>\n",
       "      <td>RT @bluepoltergeist: No importa que usted sea ...</td>\n",
       "      <td>35-49</td>\n",
       "    </tr>\n",
       "    <tr>\n",
       "      <th>2</th>\n",
       "      <td>RT @LuxuryColumnist: What do you think of this...</td>\n",
       "      <td>35-49</td>\n",
       "    </tr>\n",
       "    <tr>\n",
       "      <th>3</th>\n",
       "      <td>Un milagro! Dios rtsp://v2.cache6.c.youtube.co...</td>\n",
       "      <td>35-49</td>\n",
       "    </tr>\n",
       "    <tr>\n",
       "      <th>4</th>\n",
       "      <td>RT @Bogota: En #LaCiudadDeLosSuenos 200 jovene...</td>\n",
       "      <td>35-49</td>\n",
       "    </tr>\n",
       "    <tr>\n",
       "      <th>...</th>\n",
       "      <td>...</td>\n",
       "      <td>...</td>\n",
       "    </tr>\n",
       "    <tr>\n",
       "      <th>282226</th>\n",
       "      <td>@caldo_de_cabeza revise temprano y no! No soy ...</td>\n",
       "      <td>35-49</td>\n",
       "    </tr>\n",
       "    <tr>\n",
       "      <th>282227</th>\n",
       "      <td>@CAmanecioCali uffff ! Si lagente se diera cue...</td>\n",
       "      <td>35-49</td>\n",
       "    </tr>\n",
       "    <tr>\n",
       "      <th>282228</th>\n",
       "      <td>Presentaran ante tribunales a camarografo dete...</td>\n",
       "      <td>35-49</td>\n",
       "    </tr>\n",
       "    <tr>\n",
       "      <th>282229</th>\n",
       "      <td>Me ha gustado un video de @YouTube (http://t.c...</td>\n",
       "      <td>35-49</td>\n",
       "    </tr>\n",
       "    <tr>\n",
       "      <th>282230</th>\n",
       "      <td>RT @ClaudiaLopez: Denuncie con pruebas corrupc...</td>\n",
       "      <td>35-49</td>\n",
       "    </tr>\n",
       "  </tbody>\n",
       "</table>\n",
       "<p>282231 rows × 2 columns</p>\n",
       "</div>"
      ]
     },
     "execution_count": 30,
     "metadata": {},
     "output_type": "execute_result"
    }
   ],
   "execution_count": 30
  },
  {
   "metadata": {
    "ExecuteTime": {
     "end_time": "2024-10-10T05:46:26.804229Z",
     "start_time": "2024-10-10T05:46:24.835384Z"
    }
   },
   "cell_type": "code",
   "source": [
    "from sklearn.model_selection import train_test_split\n",
    "df_edad = df_edad.dropna(subset=['age_range'])\n",
    "# Dividir los datos en dos subconjuntos (60% y 40%) manteniendo la proporción de categorías en 'columna_codificada'\n",
    "df_60_edad, df_40_edad = train_test_split(df_edad, test_size=0.4, stratify=df_edad['age_range'], random_state=42)"
   ],
   "id": "89b17a63300c6bfb",
   "outputs": [],
   "execution_count": 34
  },
  {
   "metadata": {
    "ExecuteTime": {
     "end_time": "2024-10-10T05:48:47.207607Z",
     "start_time": "2024-10-10T05:47:07.335878Z"
    }
   },
   "cell_type": "code",
   "source": [
    "df_60_edad.to_excel('file_edad_sample_60.xlsx', index=False)\n",
    "df_40_edad.to_excel('file_edad_sample_40.xlsx', index=False)"
   ],
   "id": "2a8b4424a6563b72",
   "outputs": [],
   "execution_count": 35
  }
 ],
 "metadata": {
  "kernelspec": {
   "display_name": "Python 3",
   "language": "python",
   "name": "python3"
  },
  "language_info": {
   "codemirror_mode": {
    "name": "ipython",
    "version": 2
   },
   "file_extension": ".py",
   "mimetype": "text/x-python",
   "name": "python",
   "nbconvert_exporter": "python",
   "pygments_lexer": "ipython2",
   "version": "2.7.6"
  }
 },
 "nbformat": 4,
 "nbformat_minor": 5
}
