{
 "cells": [
  {
   "metadata": {},
   "cell_type": "markdown",
   "source": "# Variables Globales ",
   "id": "179fb5df01e94cbe"
  },
  {
   "metadata": {},
   "cell_type": "code",
   "outputs": [],
   "execution_count": null,
   "source": [
    "import pysolr\n",
    "import pandas as pd\n",
    "import requests\n",
    "import re"
   ],
   "id": "a81ec622d0de1164"
  },
  {
   "metadata": {},
   "cell_type": "markdown",
   "source": "# Descargamos el Corpus ",
   "id": "cf5ae2cb9a01537e"
  },
  {
   "metadata": {
    "ExecuteTime": {
     "end_time": "2024-09-16T21:55:22.340910Z",
     "start_time": "2024-09-16T21:55:02.876354Z"
    }
   },
   "cell_type": "code",
   "source": [
    "files_music = [{'id_file':'1UuvbgIehXY-Rh1n80WeuAQ-WS0lRam6E', 'type':'vallenato'},\n",
    "               {'id_file':'1V4NHXqlg2RDhZzlg87NLCvrra2csfqA1', 'type':'rock'},\n",
    "               {'id_file':'1UsIOKTUfX-JeTF-82I1XgHvPdHgm5nki', 'type':'pop'},\n",
    "               {'id_file':'1VCNdqcelornf6P8YmyNW1BcdoU30qfgO', 'type':'popular'},\n",
    "               {'id_file':'1VCBzL6qySO4-a3tS0jwqqFQ3nHZuh46Q', 'type':'regueton'}]\n",
    "df_music = {}\n",
    "for item in files_music:\n",
    "  # URL del archivo JSON en Google Drive\n",
    "  file_id = item['id_file']\n",
    "  url = f'https://drive.google.com/uc?export=download&id={file_id}'\n",
    "\n",
    "  # Descargar el archivo JSON\n",
    "  response = requests.get(url)\n",
    "  response.raise_for_status()  # Check for request errors\n",
    "\n",
    "  # Leer el contenido del archivo JSON en un DataFrame de Pandas\n",
    "  data = response.json()  # Parse JSON from the response\n",
    "  df = pd.json_normalize(data)\n",
    "  df['type'] = item['type']\n",
    "\n",
    "  # Mostrar el DataFrame\n",
    "  print(item['type'], df.shape)\n",
    "  df_music[item['type']] = df"
   ],
   "id": "c64587db061ebc89",
   "outputs": [
    {
     "name": "stdout",
     "output_type": "stream",
     "text": [
      "vallenato (800, 7)\n",
      "rock (503, 7)\n",
      "pop (1829, 7)\n",
      "popular (189, 7)\n",
      "regueton (1638, 7)\n"
     ]
    }
   ],
   "execution_count": 48
  },
  {
   "metadata": {},
   "cell_type": "markdown",
   "source": "# Métodos para Interactuar con Solr",
   "id": "231cea27ea692ab8"
  },
  {
   "metadata": {
    "ExecuteTime": {
     "end_time": "2024-09-16T21:55:22.353348Z",
     "start_time": "2024-09-16T21:55:22.344923Z"
    }
   },
   "cell_type": "code",
   "source": [
    "def add_documents_to_solr(core_url, documents):\n",
    "    \"\"\"\n",
    "    Inserta documentos en el core de Solr.\n",
    "\n",
    "    Parameters:\n",
    "    core_url (str): La URL completa del core de Solr, por ejemplo, 'http://localhost:8983/solr/lyricrs_example'.\n",
    "    documents (list): Lista de documentos a insertar en el formato [{campo: valor}, {campo: valor}, ...].\n",
    "    \"\"\"\n",
    "    try:\n",
    "        # Conectarse al core\n",
    "        solr = pysolr.Solr(core_url, always_commit=True, timeout=10)\n",
    "\n",
    "        # Añadir documentos\n",
    "        solr.add(documents)\n",
    "\n",
    "        print(\"Documentos agregados exitosamente.\")\n",
    "\n",
    "    except Exception as e:\n",
    "        print(f\"Error al agregar documentos: {e}\")\n",
    "\n"
   ],
   "id": "196e6912aa69accd",
   "outputs": [],
   "execution_count": 49
  },
  {
   "metadata": {
    "ExecuteTime": {
     "end_time": "2024-09-16T21:56:27.649794Z",
     "start_time": "2024-09-16T21:56:27.642773Z"
    }
   },
   "cell_type": "code",
   "source": [
    "def add_dataframe_to_solr(core_url, dataframe):\n",
    "    \"\"\"\n",
    "    Convierte un DataFrame de pandas en documentos JSON y los ingresa en Solr.\n",
    "\n",
    "    Parameters:\n",
    "    core_url (str): La URL completa del core de Solr, por ejemplo, 'http://localhost:8983/solr/lyricrs_example'.\n",
    "    dataframe (pd.DataFrame): DataFrame de pandas que contiene los datos a insertar.\n",
    "    \"\"\"\n",
    "    try:\n",
    "        # Conectarse al core\n",
    "        solr = pysolr.Solr(core_url, always_commit=True, timeout=10)\n",
    "\n",
    "        # Convertir el DataFrame a una lista de diccionarios (JSON-like)\n",
    "        documents = dataframe.to_dict(orient='records')\n",
    "        \n",
    "        # Añadir documentos a Solr\n",
    "        solr.add(documents)\n",
    "\n",
    "        print(f\"{len(documents)} Documentos agregados exitosamente.\")\n",
    "\n",
    "    except Exception as e:\n",
    "        print(f\"Error al agregar documentos: {e}\")"
   ],
   "id": "e3cd5f8e8752bfa1",
   "outputs": [],
   "execution_count": 53
  },
  {
   "metadata": {
    "ExecuteTime": {
     "end_time": "2024-09-16T21:58:49.736232Z",
     "start_time": "2024-09-16T21:58:49.714417Z"
    }
   },
   "cell_type": "code",
   "source": [
    "def search_song_lyrics(core_url, search_term):\n",
    "    \"\"\"\n",
    "    Consulta las canciones en Solr por el contenido de las letras (lyrics) y\n",
    "    devuelve la canción que contiene el término de búsqueda.\n",
    "    \"\"\"\n",
    "    try:\n",
    "        # Conectarse al core de Solr\n",
    "        solr = pysolr.Solr(core_url, always_commit=True, timeout=10)\n",
    "\n",
    "        # Definir los parámetros de la consulta\n",
    "        params = {\n",
    "            'hl': 'true',  # Activar el resaltado de texto\n",
    "            'hl.fl': 'lyrics',  # Resaltar coincidencias en el campo 'lyrics'\n",
    "            'hl.snippets': 2,  # Mostrar dos frases donde se encontró el término\n",
    "            'hl.simple.pre': '<b>',\n",
    "            'hl.simple.post': '</b>',\n",
    "            'fl': '* score'  # Incluir todos los campos y el score\n",
    "        }\n",
    "\n",
    "        # Realizar la búsqueda en el campo \"lyrics\"\n",
    "        results = solr.search(f\"lyrics:{search_term}\", **params)\n",
    "\n",
    "        # Procesar los resultados\n",
    "        processed_results = []\n",
    "\n",
    "        for result in results:\n",
    "            # Verificar si existe el resaltado para el documento\n",
    "            highlighted_lyrics = results.highlighting.get(result['id'], {}).get('lyrics', [])\n",
    "\n",
    "            # Limpiar las etiquetas <b> y </b> del texto resaltado\n",
    "            clean_lyrics = [re.sub(r'<.*?>', '', frag)[:200] + '...' for frag in\n",
    "                            highlighted_lyrics]  # Limitar a 200 caracteres\n",
    "\n",
    "            song_data = {\n",
    "                'id': result.get('id'),\n",
    "                'title': result.get('title')[0] if result.get('title') else 'N/A',\n",
    "                'artists': result.get('artists')[0] if result.get('artists') else 'N/A',\n",
    "                'language': result.get('language')[0] if result.get('language') else 'N/A',\n",
    "                'url': result.get('url')[0] if result.get('url') else 'N/A',\n",
    "                'type': result.get('type')[0] if result.get('type') else 'N/A',\n",
    "                'lyrics_highlighted': clean_lyrics if clean_lyrics else [\"No hay fragmentos destacados\"],\n",
    "                'score': result.get('score')\n",
    "            }\n",
    "            processed_results.append(song_data)\n",
    "\n",
    "        return processed_results\n",
    "\n",
    "    except Exception as e:\n",
    "        print(f\"Error al realizar la consulta: {e}\")\n",
    "        return []\n"
   ],
   "id": "8a2ce1ed2f320f83",
   "outputs": [],
   "execution_count": 57
  },
  {
   "metadata": {
    "ExecuteTime": {
     "end_time": "2024-09-16T22:00:13.996573Z",
     "start_time": "2024-09-16T22:00:13.695753Z"
    }
   },
   "cell_type": "code",
   "source": [
    "def delete_all_documents(core_url):\n",
    "    solr = pysolr.Solr(core_url, always_commit=True, timeout=10)\n",
    "    solr.delete(q='*:*')\n",
    "    print(\"Todos los documentos han sido eliminados.\")\n",
    "\n"
   ],
   "id": "6565ccbeb0c67e72",
   "outputs": [
    {
     "name": "stdout",
     "output_type": "stream",
     "text": [
      "Todos los documentos han sido eliminados.\n"
     ]
    }
   ],
   "execution_count": 59
  },
  {
   "metadata": {},
   "cell_type": "markdown",
   "source": "# Agregamos los datos a Solr",
   "id": "f113b412453d632b"
  },
  {
   "metadata": {},
   "cell_type": "code",
   "outputs": [
    {
     "data": {
      "text/plain": [
       "                                                  url             title  \\\n",
       "0     https://www.musica.com/letras.asp?letra=2533171       Mood Remix    \n",
       "1     https://www.musica.com/letras.asp?letra=2533172       Mood Remix    \n",
       "2     https://www.musica.com/letras.asp?letra=2533173       Mood Remix    \n",
       "3     https://www.musica.com/letras.asp?letra=2439752      Bola Rebola    \n",
       "4     https://www.musica.com/letras.asp?letra=2440169      Bola Rebola    \n",
       "...                                               ...               ...   \n",
       "1633  https://www.musica.com/letras.asp?letra=2585071     Que Mas Pues    \n",
       "1634  https://www.musica.com/letras.asp?letra=2585079     Que Mas Pues    \n",
       "1635  https://www.musica.com/letras.asp?letra=2570725  Monumento Remix    \n",
       "1636  https://www.musica.com/letras.asp?letra=2570731  Monumento Remix    \n",
       "1637  https://www.musica.com/letras.asp?letra=2572973  Monumento Remix    \n",
       "\n",
       "                                 artists language  \\\n",
       "0        24kGoldn,J Balvin,Justin Bieber       en   \n",
       "1        24kGoldn,J Balvin,Justin Bieber       en   \n",
       "2        24kGoldn,J Balvin,Justin Bieber       en   \n",
       "3     Anitta,J Balvin,Tropkillaz,MC Zaac       es   \n",
       "4     Anitta,J Balvin,Tropkillaz,MC Zaac       es   \n",
       "...                                  ...      ...   \n",
       "1633              Ryan Castro,Sir Speedy       es   \n",
       "1634              Ryan Castro,Sir Speedy       es   \n",
       "1635        Ryan Castro,Ñejo,Andy Rivera       es   \n",
       "1636        Ryan Castro,Ñejo,Andy Rivera       es   \n",
       "1637        Ryan Castro,Ñejo,Andy Rivera       es   \n",
       "\n",
       "                                                 lyrics  \\\n",
       "0     Woah\\nJB, JB Why you always in a mood? Fuckin'...   \n",
       "1     Woah\\nJB, JB Why you always in a mood? Fuckin'...   \n",
       "2     Woah\\nJB, JB Why you always in a mood? Fuckin'...   \n",
       "3     [MC Zaac]\\nÊ, mulher, ah\\nVai assim, tá bom?\\n...   \n",
       "4     [MC Zaac]\\nÊ, mulher, ah\\nVai assim, tá bom?\\n...   \n",
       "...                                                 ...   \n",
       "1633  Oh-oh\\nMamacita\\nCoge la curva, mami Y fue por...   \n",
       "1634  Oh-oh\\nMamacita\\nCoge la curva, mami Y fue por...   \n",
       "1635  Quédate cinco minutos más\\nUn polvo más nunca ...   \n",
       "1636  Quédate cinco minutos más\\nUn polvo más nunca ...   \n",
       "1637  Quédate cinco minutos más\\nUn polvo más nunca ...   \n",
       "\n",
       "                      _id.$oid      type  \n",
       "0     64d50bf988bd5d509413d40b  regueton  \n",
       "1     64d50bf988bd5d509413d40c  regueton  \n",
       "2     64d50bfa88bd5d509413d40d  regueton  \n",
       "3     64d4a60c88bd5d5094129254  regueton  \n",
       "4     64d4a67788bd5d50941293d2  regueton  \n",
       "...                        ...       ...  \n",
       "1633  64d55a7688bd5d5094145b77  regueton  \n",
       "1634  64d55a7888bd5d5094145b7f  regueton  \n",
       "1635  64d53f9388bd5d50941435f4  regueton  \n",
       "1636  64d53f9588bd5d50941435fa  regueton  \n",
       "1637  64d5423f88bd5d5094143cc9  regueton  \n",
       "\n",
       "[1638 rows x 7 columns]"
      ],
      "text/html": [
       "<div>\n",
       "<style scoped>\n",
       "    .dataframe tbody tr th:only-of-type {\n",
       "        vertical-align: middle;\n",
       "    }\n",
       "\n",
       "    .dataframe tbody tr th {\n",
       "        vertical-align: top;\n",
       "    }\n",
       "\n",
       "    .dataframe thead th {\n",
       "        text-align: right;\n",
       "    }\n",
       "</style>\n",
       "<table border=\"1\" class=\"dataframe\">\n",
       "  <thead>\n",
       "    <tr style=\"text-align: right;\">\n",
       "      <th></th>\n",
       "      <th>url</th>\n",
       "      <th>title</th>\n",
       "      <th>artists</th>\n",
       "      <th>language</th>\n",
       "      <th>lyrics</th>\n",
       "      <th>_id.$oid</th>\n",
       "      <th>type</th>\n",
       "    </tr>\n",
       "  </thead>\n",
       "  <tbody>\n",
       "    <tr>\n",
       "      <th>0</th>\n",
       "      <td>https://www.musica.com/letras.asp?letra=2533171</td>\n",
       "      <td>Mood Remix</td>\n",
       "      <td>24kGoldn,J Balvin,Justin Bieber</td>\n",
       "      <td>en</td>\n",
       "      <td>Woah\\nJB, JB Why you always in a mood? Fuckin'...</td>\n",
       "      <td>64d50bf988bd5d509413d40b</td>\n",
       "      <td>regueton</td>\n",
       "    </tr>\n",
       "    <tr>\n",
       "      <th>1</th>\n",
       "      <td>https://www.musica.com/letras.asp?letra=2533172</td>\n",
       "      <td>Mood Remix</td>\n",
       "      <td>24kGoldn,J Balvin,Justin Bieber</td>\n",
       "      <td>en</td>\n",
       "      <td>Woah\\nJB, JB Why you always in a mood? Fuckin'...</td>\n",
       "      <td>64d50bf988bd5d509413d40c</td>\n",
       "      <td>regueton</td>\n",
       "    </tr>\n",
       "    <tr>\n",
       "      <th>2</th>\n",
       "      <td>https://www.musica.com/letras.asp?letra=2533173</td>\n",
       "      <td>Mood Remix</td>\n",
       "      <td>24kGoldn,J Balvin,Justin Bieber</td>\n",
       "      <td>en</td>\n",
       "      <td>Woah\\nJB, JB Why you always in a mood? Fuckin'...</td>\n",
       "      <td>64d50bfa88bd5d509413d40d</td>\n",
       "      <td>regueton</td>\n",
       "    </tr>\n",
       "    <tr>\n",
       "      <th>3</th>\n",
       "      <td>https://www.musica.com/letras.asp?letra=2439752</td>\n",
       "      <td>Bola Rebola</td>\n",
       "      <td>Anitta,J Balvin,Tropkillaz,MC Zaac</td>\n",
       "      <td>es</td>\n",
       "      <td>[MC Zaac]\\nÊ, mulher, ah\\nVai assim, tá bom?\\n...</td>\n",
       "      <td>64d4a60c88bd5d5094129254</td>\n",
       "      <td>regueton</td>\n",
       "    </tr>\n",
       "    <tr>\n",
       "      <th>4</th>\n",
       "      <td>https://www.musica.com/letras.asp?letra=2440169</td>\n",
       "      <td>Bola Rebola</td>\n",
       "      <td>Anitta,J Balvin,Tropkillaz,MC Zaac</td>\n",
       "      <td>es</td>\n",
       "      <td>[MC Zaac]\\nÊ, mulher, ah\\nVai assim, tá bom?\\n...</td>\n",
       "      <td>64d4a67788bd5d50941293d2</td>\n",
       "      <td>regueton</td>\n",
       "    </tr>\n",
       "    <tr>\n",
       "      <th>...</th>\n",
       "      <td>...</td>\n",
       "      <td>...</td>\n",
       "      <td>...</td>\n",
       "      <td>...</td>\n",
       "      <td>...</td>\n",
       "      <td>...</td>\n",
       "      <td>...</td>\n",
       "    </tr>\n",
       "    <tr>\n",
       "      <th>1633</th>\n",
       "      <td>https://www.musica.com/letras.asp?letra=2585071</td>\n",
       "      <td>Que Mas Pues</td>\n",
       "      <td>Ryan Castro,Sir Speedy</td>\n",
       "      <td>es</td>\n",
       "      <td>Oh-oh\\nMamacita\\nCoge la curva, mami Y fue por...</td>\n",
       "      <td>64d55a7688bd5d5094145b77</td>\n",
       "      <td>regueton</td>\n",
       "    </tr>\n",
       "    <tr>\n",
       "      <th>1634</th>\n",
       "      <td>https://www.musica.com/letras.asp?letra=2585079</td>\n",
       "      <td>Que Mas Pues</td>\n",
       "      <td>Ryan Castro,Sir Speedy</td>\n",
       "      <td>es</td>\n",
       "      <td>Oh-oh\\nMamacita\\nCoge la curva, mami Y fue por...</td>\n",
       "      <td>64d55a7888bd5d5094145b7f</td>\n",
       "      <td>regueton</td>\n",
       "    </tr>\n",
       "    <tr>\n",
       "      <th>1635</th>\n",
       "      <td>https://www.musica.com/letras.asp?letra=2570725</td>\n",
       "      <td>Monumento Remix</td>\n",
       "      <td>Ryan Castro,Ñejo,Andy Rivera</td>\n",
       "      <td>es</td>\n",
       "      <td>Quédate cinco minutos más\\nUn polvo más nunca ...</td>\n",
       "      <td>64d53f9388bd5d50941435f4</td>\n",
       "      <td>regueton</td>\n",
       "    </tr>\n",
       "    <tr>\n",
       "      <th>1636</th>\n",
       "      <td>https://www.musica.com/letras.asp?letra=2570731</td>\n",
       "      <td>Monumento Remix</td>\n",
       "      <td>Ryan Castro,Ñejo,Andy Rivera</td>\n",
       "      <td>es</td>\n",
       "      <td>Quédate cinco minutos más\\nUn polvo más nunca ...</td>\n",
       "      <td>64d53f9588bd5d50941435fa</td>\n",
       "      <td>regueton</td>\n",
       "    </tr>\n",
       "    <tr>\n",
       "      <th>1637</th>\n",
       "      <td>https://www.musica.com/letras.asp?letra=2572973</td>\n",
       "      <td>Monumento Remix</td>\n",
       "      <td>Ryan Castro,Ñejo,Andy Rivera</td>\n",
       "      <td>es</td>\n",
       "      <td>Quédate cinco minutos más\\nUn polvo más nunca ...</td>\n",
       "      <td>64d5423f88bd5d5094143cc9</td>\n",
       "      <td>regueton</td>\n",
       "    </tr>\n",
       "  </tbody>\n",
       "</table>\n",
       "<p>1638 rows × 7 columns</p>\n",
       "</div>"
      ]
     },
     "execution_count": 50,
     "metadata": {},
     "output_type": "execute_result"
    }
   ],
   "execution_count": 50,
   "source": "df_music['regueton']",
   "id": "853a276a3cf548db"
  },
  {
   "metadata": {},
   "cell_type": "code",
   "outputs": [
    {
     "name": "stdout",
     "output_type": "stream",
     "text": [
      "<class 'pandas.core.frame.DataFrame'>\n",
      "RangeIndex: 1638 entries, 0 to 1637\n",
      "Data columns (total 7 columns):\n",
      " #   Column    Non-Null Count  Dtype \n",
      "---  ------    --------------  ----- \n",
      " 0   url       1638 non-null   object\n",
      " 1   title     1638 non-null   object\n",
      " 2   artists   1638 non-null   object\n",
      " 3   language  1638 non-null   object\n",
      " 4   lyrics    1638 non-null   object\n",
      " 5   _id.$oid  1638 non-null   object\n",
      " 6   type      1638 non-null   object\n",
      "dtypes: object(7)\n",
      "memory usage: 89.7+ KB\n"
     ]
    }
   ],
   "execution_count": 51,
   "source": "df_music['regueton'].info()",
   "id": "7becb180145df61f"
  },
  {
   "metadata": {},
   "cell_type": "code",
   "outputs": [],
   "execution_count": 52,
   "source": "core_url = 'http://localhost:8983/solr/lyrics_example'",
   "id": "7e4e6cf28d75575b"
  },
  {
   "metadata": {},
   "cell_type": "code",
   "outputs": [
    {
     "name": "stdout",
     "output_type": "stream",
     "text": [
      "1638 Documentos agregados exitosamente.\n"
     ]
    }
   ],
   "execution_count": 60,
   "source": "add_dataframe_to_solr(core_url, df_music['regueton'])",
   "id": "bd9219f1c290e29"
  },
  {
   "metadata": {},
   "cell_type": "markdown",
   "source": "# Realizamos operaciones especificas",
   "id": "4f85541e0fe0538"
  },
  {
   "metadata": {},
   "cell_type": "code",
   "outputs": [
    {
     "name": "stdout",
     "output_type": "stream",
     "text": [
      "[{'id': 'a2379229-9381-4216-b015-fb9ceaa0817b', 'title': 'Abrázame ', 'artists': 'J Balvin', 'language': 'es', 'url': 'https://www.musica.com/letras.asp?letra=2083739', 'type': 'regueton', 'lyrics_highlighted': ['Nuevamente te extrañé\\nNuevamente te busqué\\nY de ti no encontré nada\\nYa no escucho ni tu voz\\nYa no aguanto este dolor\\nHay que tengo me mata Abrázame aunque no estés a mi lado\\nNiña siénteme\\nMe tienes de...'], 'score': 4.014496}, {'id': 'e3dcac6d-2333-49e0-b14f-ce657c0ec0c6', 'title': 'Abrázame ', 'artists': 'J Balvin', 'language': 'es', 'url': 'https://www.musica.com/letras.asp?letra=2083739', 'type': 'regueton', 'lyrics_highlighted': ['Nuevamente te extrañé\\nNuevamente te busqué\\nY de ti no encontré nada\\nYa no escucho ni tu voz\\nYa no aguanto este dolor\\nHay que tengo me mata Abrázame aunque no estés a mi lado\\nNiña siénteme\\nMe tienes de...'], 'score': 4.014496}, {'id': '85ff7641-98a2-46d6-910f-e4004ec82f73', 'title': 'No me vuelvo a enamorar ', 'artists': 'J Balvin', 'language': 'es', 'url': 'https://www.musica.com/letras.asp?letra=1632816', 'type': 'regueton', 'lyrics_highlighted': ['es que no quiero volver a saber\\njamas\\nRecuerdo que llore hee hee\\npor aquella mujer hee hee\\nrecuerdo que llore hee hee\\npor aquella mujer hee hee y sin demora llego el momento señora\\npor su culpa mi cor...'], 'score': 3.928343}, {'id': 'de3a5a7b-026a-4112-a95b-022b22b10be7', 'title': 'No me vuelvo a enamorar ', 'artists': 'J Balvin', 'language': 'es', 'url': 'https://www.musica.com/letras.asp?letra=1632816', 'type': 'regueton', 'lyrics_highlighted': ['es que no quiero volver a saber\\njamas\\nRecuerdo que llore hee hee\\npor aquella mujer hee hee\\nrecuerdo que llore hee hee\\npor aquella mujer hee hee y sin demora llego el momento señora\\npor su culpa mi cor...'], 'score': 3.928343}, {'id': 'f08a4522-34ef-4fcb-8dd1-0b4472b95103', 'title': 'Guinza Remix ', 'artists': 'J Balvin', 'language': 'es', 'url': 'https://www.musica.com/letras.asp?letra=2242384', 'type': 'regueton', 'lyrics_highlighted': ['Ginza\\nToma! Ella me mira de tal forma, que no se ni que pensar\\nse muerde los labios y se mueve bien sensual\\nsi dudas de mi de todo lo que te haré\\ny si ella pide más, más reggaeton, pues más le daré Si...', 'Dale movimiento, dale dembow\\nmenealo rápido, ponlo en slow\\nse pone dulzona, cuando lo baila con flow\\nrompe todas las zona y roba el show Cuando se combina un parcero\\ncon la maña de un boricuisy\\nhay mu...'], 'score': 2.0081563}, {'id': 'b52ec358-2792-4d55-9d12-11b2f55c6160', 'title': 'Guinza Remix ', 'artists': 'J Balvin', 'language': 'es', 'url': 'https://www.musica.com/letras.asp?letra=2242384', 'type': 'regueton', 'lyrics_highlighted': ['Ginza\\nToma! Ella me mira de tal forma, que no se ni que pensar\\nse muerde los labios y se mueve bien sensual\\nsi dudas de mi de todo lo que te haré\\ny si ella pide más, más reggaeton, pues más le daré Si...', 'Dale movimiento, dale dembow\\nmenealo rápido, ponlo en slow\\nse pone dulzona, cuando lo baila con flow\\nrompe todas las zona y roba el show Cuando se combina un parcero\\ncon la maña de un boricuisy\\nhay mu...'], 'score': 2.0081563}]\n"
     ]
    }
   ],
   "execution_count": 58,
   "source": [
    "url_cancion = \"https://www.letras.com/j-balvin/abrazame/\"\n",
    "    \n",
    "search_term = \"\"\"Nuevamente te busqué Y de ti no encontré nada\"\"\"  # Cambia esto por el término de búsqueda que desees\n",
    "\n",
    "# Realizar la búsqueda\n",
    "results = search_song_lyrics(core_url, search_term)\n",
    "\n",
    "print(results)\n"
   ],
   "id": "ab8ba05ccdbf8b9"
  },
  {
   "metadata": {},
   "cell_type": "code",
   "outputs": [],
   "execution_count": null,
   "source": "delete_all_documents(core_url)",
   "id": "2bc0ffcd16db2f36"
  }
 ],
 "metadata": {
  "kernelspec": {
   "display_name": "Python 3",
   "language": "python",
   "name": "python3"
  },
  "language_info": {
   "codemirror_mode": {
    "name": "ipython",
    "version": 2
   },
   "file_extension": ".py",
   "mimetype": "text/x-python",
   "name": "python",
   "nbconvert_exporter": "python",
   "pygments_lexer": "ipython2",
   "version": "2.7.6"
  }
 },
 "nbformat": 4,
 "nbformat_minor": 5
}
